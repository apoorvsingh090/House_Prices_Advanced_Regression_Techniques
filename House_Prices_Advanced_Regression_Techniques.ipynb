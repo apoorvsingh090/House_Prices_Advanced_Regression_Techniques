{
  "nbformat": 4,
  "nbformat_minor": 0,
  "metadata": {
    "colab": {
      "name": "House Prices - Advanced Regression Techniques.ipynb",
      "provenance": [],
      "collapsed_sections": [],
      "include_colab_link": true
    },
    "kernelspec": {
      "name": "python3",
      "display_name": "Python 3"
    },
    "accelerator": "GPU"
  },
  "cells": [
    {
      "cell_type": "markdown",
      "metadata": {
        "id": "view-in-github",
        "colab_type": "text"
      },
      "source": [
        "<a href=\"https://colab.research.google.com/github/apoorvsingh090/House_Prices_Advanced_Regression_Techniques/blob/main/House_Prices_Advanced_Regression_Techniques.ipynb\" target=\"_parent\"><img src=\"https://colab.research.google.com/assets/colab-badge.svg\" alt=\"Open In Colab\"/></a>"
      ]
    },
    {
      "cell_type": "markdown",
      "metadata": {
        "id": "msi0oLm43lAQ"
      },
      "source": [
        "#Setting up\r\n",
        "\r\n",
        "\r\n",
        "\r\n",
        "---\r\n",
        "\r\n"
      ]
    },
    {
      "cell_type": "code",
      "metadata": {
        "id": "e78I4s7LytzL",
        "colab": {
          "base_uri": "https://localhost:8080/"
        },
        "outputId": "58b05b57-8daf-43e8-da6a-fbc0a1717ab8"
      },
      "source": [
        "!wget -O data.zip \"https://primeroomlink.herokuapp.com/8176505277972416/house-prices-advanced-regression-techniques.zip\"\r\n",
        "!7z e data.zip"
      ],
      "execution_count": 1,
      "outputs": [
        {
          "output_type": "stream",
          "text": [
            "--2021-03-12 13:14:36--  https://primeroomlink.herokuapp.com/8176505277972416/house-prices-advanced-regression-techniques.zip\n",
            "Resolving primeroomlink.herokuapp.com (primeroomlink.herokuapp.com)... 52.0.2.156, 3.208.49.102, 52.200.31.227, ...\n",
            "Connecting to primeroomlink.herokuapp.com (primeroomlink.herokuapp.com)|52.0.2.156|:443... connected.\n",
            "HTTP request sent, awaiting response... 200 OK\n",
            "Length: 203809 (199K) [application/zip]\n",
            "Saving to: ‘data.zip’\n",
            "\n",
            "data.zip            100%[===================>] 199.03K   144KB/s    in 1.4s    \n",
            "\n",
            "2021-03-12 13:14:38 (144 KB/s) - ‘data.zip’ saved [203809/203809]\n",
            "\n",
            "\n",
            "7-Zip [64] 16.02 : Copyright (c) 1999-2016 Igor Pavlov : 2016-05-21\n",
            "p7zip Version 16.02 (locale=en_US.UTF-8,Utf16=on,HugeFiles=on,64 bits,2 CPUs Intel(R) Xeon(R) CPU @ 2.20GHz (406F0),ASM,AES-NI)\n",
            "\n",
            "Scanning the drive for archives:\n",
            "  0M Scan\b\b\b\b\b\b\b\b\b         \b\b\b\b\b\b\b\b\b1 file, 203809 bytes (200 KiB)\n",
            "\n",
            "Extracting archive: data.zip\n",
            "--\n",
            "Path = data.zip\n",
            "Type = zip\n",
            "Physical Size = 203809\n",
            "\n",
            "  0%\b\b\b\b    \b\b\b\bEverything is Ok\n",
            "\n",
            "Files: 4\n",
            "Size:       957390\n",
            "Compressed: 203809\n"
          ],
          "name": "stdout"
        }
      ]
    },
    {
      "cell_type": "code",
      "metadata": {
        "id": "Qee93642zO66"
      },
      "source": [
        "import tensorflow as tf\r\n",
        "import numpy as np\r\n",
        "import pandas as pd\r\n",
        "from sklearn.ensemble import RandomForestClassifier\r\n",
        "from sklearn.metrics import mean_absolute_error\r\n",
        "from sklearn.model_selection import train_test_split\r\n",
        "from sklearn.tree import DecisionTreeClassifier\r\n",
        "from sklearn.preprocessing import OneHotEncoder\r\n",
        "import matplotlib.pyplot as plt"
      ],
      "execution_count": 2,
      "outputs": []
    },
    {
      "cell_type": "markdown",
      "metadata": {
        "id": "uCqNM3lGqAqS"
      },
      "source": [
        "#Preprocessing\r\n"
      ]
    },
    {
      "cell_type": "code",
      "metadata": {
        "id": "4EYTjFbizhgg"
      },
      "source": [
        "df=pd.read_csv(\"train.csv\")"
      ],
      "execution_count": 3,
      "outputs": []
    },
    {
      "cell_type": "code",
      "metadata": {
        "id": "OKjLs6AinEJZ"
      },
      "source": [
        "ord_col = ['LotShape', 'Utilities', 'LandSlope', 'ExterQual', 'ExterCond', 'BsmtQual', 'BsmtCond', 'BsmtExposure', 'BsmtFinType1', 'BsmtFinType2', 'HeatingQC', 'KitchenQual', 'Functional', 'FireplaceQu', 'GarageFinish', 'GarageQual', 'GarageCond', 'PoolQC']  \r\n"
      ],
      "execution_count": 4,
      "outputs": []
    },
    {
      "cell_type": "code",
      "metadata": {
        "id": "6Nb-K03IU75r"
      },
      "source": [
        "# Encoding ordinal features\r\n",
        "from sklearn.preprocessing import OrdinalEncoder\r\n",
        "enc = OrdinalEncoder()\r\n",
        "df[ord_col]=enc.fit_transform(df[ord_col].astype(str))"
      ],
      "execution_count": 5,
      "outputs": []
    },
    {
      "cell_type": "code",
      "metadata": {
        "id": "yVl4Q06PnTWW"
      },
      "source": [
        "# Standardization of values\r\n",
        "from sklearn import preprocessing\r\n",
        "ndf = df.select_dtypes(include=np.number)\r\n",
        "del ndf['Id']\r\n",
        "del ndf['SalePrice']\r\n",
        "names = ndf.columns\r\n",
        "# Create the Scaler object\r\n",
        "scaler = preprocessing.StandardScaler()\r\n",
        "# Fit your data on the scaler object\r\n",
        "scaled_df = scaler.fit_transform(ndf)\r\n",
        "ndf = pd.DataFrame(scaled_df, columns=names)\r\n",
        "df[ndf.columns] = ndf"
      ],
      "execution_count": 6,
      "outputs": []
    },
    {
      "cell_type": "code",
      "metadata": {
        "id": "dH_WaB5c0U1r"
      },
      "source": [
        "# Filling null values and one-hot encoding label features\r\n",
        "df2=pd.get_dummies(df,dummy_na=True)#categorical encoding\r\n",
        "df3=df2.select_dtypes(include=np.number)#using only numeric columns\r\n",
        "df3=df3.fillna(df3.mean())#filling na with mean\r\n",
        "col=df3.columns.tolist()\r\n",
        "col.remove(\"SalePrice\")\r\n",
        "X=df3[col]\r\n",
        "y=df3[\"SalePrice\"]\r\n",
        "train_X, val_X, train_y, val_y = train_test_split(X, y,random_state=1,test_size=0.20,shuffle=True)\r\n",
        "\r\n"
      ],
      "execution_count": 7,
      "outputs": []
    },
    {
      "cell_type": "code",
      "metadata": {
        "colab": {
          "base_uri": "https://localhost:8080/"
        },
        "id": "VmGMhaCoWNq5",
        "outputId": "56ecd566-c472-4243-8ad8-b59806d67d7a"
      },
      "source": [
        "# Finding the more relevant features by mutual information\r\n",
        "from sklearn.feature_selection import mutual_info_regression\r\n",
        "\r\n",
        "def make_mi_scores(X, y):\r\n",
        "    mi_scores = mutual_info_regression(X, y)\r\n",
        "    mi_scores = pd.Series(mi_scores, name=\"MI Scores\", index=X.columns)\r\n",
        "    mi_scores = mi_scores.sort_values(ascending=False)\r\n",
        "    return mi_scores\r\n",
        "\r\n",
        "mi_scores = make_mi_scores(X, y)\r\n",
        "mi_scores[:80]"
      ],
      "execution_count": 8,
      "outputs": [
        {
          "output_type": "execute_result",
          "data": {
            "text/plain": [
              "OverallQual        0.572862\n",
              "GrLivArea          0.480171\n",
              "GarageArea         0.366109\n",
              "GarageCars         0.365261\n",
              "TotalBsmtSF        0.364878\n",
              "                     ...   \n",
              "ExterCond          0.024593\n",
              "MiscFeature_nan    0.024497\n",
              "HouseStyle_SLvl    0.024295\n",
              "Heating_GasA       0.024099\n",
              "Fence_MnPrv        0.024044\n",
              "Name: MI Scores, Length: 80, dtype: float64"
            ]
          },
          "metadata": {
            "tags": []
          },
          "execution_count": 8
        }
      ]
    },
    {
      "cell_type": "code",
      "metadata": {
        "id": "NBb1zcGkxgqw"
      },
      "source": [
        "finalcol=pd.Series(mi_scores[:80]).index\r\n",
        "X=df3[finalcol]\r\n",
        "train_X, val_X, train_y, val_y = train_test_split(X, y,random_state=1,test_size=0.20,shuffle=True)\r\n"
      ],
      "execution_count": 9,
      "outputs": []
    },
    {
      "cell_type": "markdown",
      "metadata": {
        "id": "wsKU2O8m3gy8"
      },
      "source": [
        "#Models\r\n",
        "\r\n"
      ]
    },
    {
      "cell_type": "code",
      "metadata": {
        "colab": {
          "base_uri": "https://localhost:8080/"
        },
        "id": "YouQHoNt28AA",
        "outputId": "d7f80be4-2040-43de-8885-71c63738ee59"
      },
      "source": [
        "from xgboost import XGBRegressor\r\n",
        "from sklearn.model_selection import GridSearchCV\r\n",
        "\r\n",
        "my_model_1 = XGBRegressor(random_state=0)\r\n",
        "parameters = {'nthread':[4], #when use hyperthread, xgboost may become slower\r\n",
        "              'objective':['reg:linear'],\r\n",
        "              'learning_rate': [.07,0.08],\r\n",
        "              'max_depth': [7,8],\r\n",
        "              'min_child_weight': [4],\r\n",
        "              'silent': [1],\r\n",
        "              'subsample': [0.7],\r\n",
        "              'colsample_bytree': [0.7,1],\r\n",
        "              'n_estimators': [500]}\r\n",
        "xgb_grid = GridSearchCV(my_model_1,\r\n",
        "                        parameters,\r\n",
        "                        cv = 2,\r\n",
        "                        n_jobs = 5,\r\n",
        "                        verbose=True)\r\n",
        "xgb_grid.fit(train_X, train_y)\r\n",
        "xgpredictions=xgb_grid.predict(val_X)\r\n",
        "print(xgb_grid.best_score_)\r\n",
        "print(xgb_grid.best_params_)"
      ],
      "execution_count": 11,
      "outputs": [
        {
          "output_type": "stream",
          "text": [
            "Fitting 2 folds for each of 8 candidates, totalling 16 fits\n"
          ],
          "name": "stdout"
        },
        {
          "output_type": "stream",
          "text": [
            "[Parallel(n_jobs=5)]: Using backend LokyBackend with 5 concurrent workers.\n",
            "[Parallel(n_jobs=5)]: Done  16 out of  16 | elapsed:   29.3s finished\n"
          ],
          "name": "stderr"
        },
        {
          "output_type": "stream",
          "text": [
            "0.8423402366672501\n",
            "{'colsample_bytree': 1, 'learning_rate': 0.08, 'max_depth': 8, 'min_child_weight': 4, 'n_estimators': 500, 'nthread': 4, 'objective': 'reg:linear', 'silent': 1, 'subsample': 0.7}\n"
          ],
          "name": "stdout"
        }
      ]
    },
    {
      "cell_type": "code",
      "metadata": {
        "colab": {
          "base_uri": "https://localhost:8080/"
        },
        "id": "RWgoIyNiCQdc",
        "outputId": "e8addc27-3206-4c94-ab35-a987501939ba"
      },
      "source": [
        "my_model_1 = XGBRegressor(random_state=0)\r\n",
        "parameters = {'nthread':[4], #when use hyperthread, xgboost may become slower\r\n",
        "              'objective':['reg:linear'],\r\n",
        "              'learning_rate': .07, #so called `eta` value\r\n",
        "              'max_depth': 7,\r\n",
        "              'min_child_weight': [4],\r\n",
        "              'silent': [1],\r\n",
        "              'subsample': [0.7],\r\n",
        "              'colsample_bytree': [0.7],\r\n",
        "              'n_estimators': [500]}\r\n",
        "my_model_1.fit(train_X, train_y)\r\n",
        "xgpredictions=my_model_1.predict(val_X)\r\n",
        "val_mae1 = mean_absolute_error(xgpredictions, val_y)\r\n",
        "print(val_mae1)"
      ],
      "execution_count": 12,
      "outputs": [
        {
          "output_type": "stream",
          "text": [
            "[13:16:08] WARNING: /workspace/src/objective/regression_obj.cu:152: reg:linear is now deprecated in favor of reg:squarederror.\n",
            "15542.843642979453\n"
          ],
          "name": "stdout"
        }
      ]
    },
    {
      "cell_type": "code",
      "metadata": {
        "id": "-aKBemq729o6",
        "colab": {
          "base_uri": "https://localhost:8080/"
        },
        "outputId": "77e5ed8e-bf41-462b-d1f8-9eea00008a37"
      },
      "source": [
        "import lightgbm as lgb\r\n",
        "clf = lgb.LGBMRegressor()\r\n",
        "parameters = {'nthread':[4], #when use hyperthread, xgboost may become slower\r\n",
        "              'objective':['reg:linear'],\r\n",
        "              'learning_rate': [.07,0.09],\r\n",
        "              'max_depth': [7,11],\r\n",
        "              'min_child_weight': [4,1,8],\r\n",
        "              'silent': [1],\r\n",
        "              'subsample': [0.7],\r\n",
        "              'colsample_bytree': [0.7],\r\n",
        "              'n_estimators': [500]}\r\n",
        "lgb_grid = GridSearchCV(my_model_1,\r\n",
        "                        parameters,\r\n",
        "                        cv=2,\r\n",
        "                        n_jobs = 5,\r\n",
        "                        verbose=True)\r\n",
        "lgb_grid.fit(train_X, train_y)\r\n",
        "lgpredictions=lgb_grid.predict(val_X)\r\n",
        "print(lgb_grid.best_score_)\r\n",
        "print(lgb_grid.best_params_)"
      ],
      "execution_count": 17,
      "outputs": [
        {
          "output_type": "stream",
          "text": [
            "Fitting 2 folds for each of 12 candidates, totalling 24 fits\n"
          ],
          "name": "stdout"
        },
        {
          "output_type": "stream",
          "text": [
            "[Parallel(n_jobs=5)]: Using backend LokyBackend with 5 concurrent workers.\n",
            "[Parallel(n_jobs=5)]: Done  24 out of  24 | elapsed:   47.0s finished\n"
          ],
          "name": "stderr"
        },
        {
          "output_type": "stream",
          "text": [
            "0.8694964476946163\n",
            "{'colsample_bytree': 0.7, 'learning_rate': 0.07, 'max_depth': 7, 'min_child_weight': 1, 'n_estimators': 500, 'nthread': 4, 'objective': 'reg:linear', 'silent': 1, 'subsample': 0.7}\n"
          ],
          "name": "stdout"
        }
      ]
    },
    {
      "cell_type": "code",
      "metadata": {
        "id": "bi6cnp7gFPcD",
        "colab": {
          "base_uri": "https://localhost:8080/"
        },
        "outputId": "87cf439d-d030-4535-feda-16703db26c25"
      },
      "source": [
        "clf = lgb.LGBMRegressor()\r\n",
        "\r\n",
        "parameters = {'nthread':[4], #when use hyperthread, xgboost may become slower\r\n",
        "              'objective':['reg:linear'],\r\n",
        "              'learning_rate': .07, #so called `eta` value\r\n",
        "              'max_depth': 7,\r\n",
        "              'min_child_weight': [4],\r\n",
        "              'silent': [1],\r\n",
        "              'subsample': [0.7],\r\n",
        "              'colsample_bytree': [0.7],\r\n",
        "              'n_estimators': [500]}\r\n",
        "clf.fit(train_X, train_y)\r\n",
        "lgpredictions=clf.predict(val_X)\r\n",
        "val_mae1 = mean_absolute_error(lgpredictions, val_y)\r\n",
        "print(val_mae1)"
      ],
      "execution_count": 20,
      "outputs": [
        {
          "output_type": "stream",
          "text": [
            "15777.281684552934\n"
          ],
          "name": "stdout"
        }
      ]
    },
    {
      "cell_type": "markdown",
      "metadata": {
        "id": "f9K1Fh_nlEcW"
      },
      "source": [
        "#OtherModels"
      ]
    },
    {
      "cell_type": "code",
      "metadata": {
        "id": "fNPvwCAh2yDZ",
        "colab": {
          "base_uri": "https://localhost:8080/",
          "height": 336
        },
        "outputId": "c5bfc75b-5a0b-4bb0-82a6-20f604b15701"
      },
      "source": [
        "from sklearn.neural_network import MLPRegressor\r\n",
        "mlp = MLPRegressor(hidden_layer_sizes=(10,),  activation='relu', solver='adam', alpha=0.001, batch_size='auto',\r\n",
        "    learning_rate='constant', learning_rate_init=0.01, power_t=0.5, max_iter=1000, shuffle=True,\r\n",
        "    random_state=9, tol=0.0001, verbose=False, warm_start=False, momentum=0.9, nesterovs_momentum=True,\r\n",
        "    early_stopping=False, validation_fraction=0.1, beta_1=0.9, beta_2=0.999, epsilon=1e-08)\r\n",
        "mlp.fit(train_X,train_y)\r\n",
        "predictions = mlp.predict(val_X)\r\n",
        "mae=mean_absolute_error(predictions,val_y)\r\n",
        "print(mae)\r\n",
        "plt.figure()\r\n",
        "plt.plot(predictions)#blue\r\n",
        "plt.plot(val_y)#orange\r\n",
        "plt.show()"
      ],
      "execution_count": null,
      "outputs": [
        {
          "output_type": "stream",
          "text": [
            "26417.621434525186\n"
          ],
          "name": "stdout"
        },
        {
          "output_type": "stream",
          "text": [
            "/usr/local/lib/python3.7/dist-packages/sklearn/neural_network/_multilayer_perceptron.py:571: ConvergenceWarning: Stochastic Optimizer: Maximum iterations (1000) reached and the optimization hasn't converged yet.\n",
            "  % self.max_iter, ConvergenceWarning)\n"
          ],
          "name": "stderr"
        },
        {
          "output_type": "display_data",
          "data": {
            "image/png": "[encoded data removed]",
            "text/plain": [
              "<Figure size 432x288 with 1 Axes>"
            ]
          },
          "metadata": {
            "tags": [],
            "needs_background": "light"
          }
        }
      ]
    },
    {
      "cell_type": "code",
      "metadata": {
        "colab": {
          "base_uri": "https://localhost:8080/"
        },
        "id": "SmwrylI_1f4e",
        "outputId": "221447b0-bf24-4c40-8fc8-74b7fff18536"
      },
      "source": [
        "from sklearn.tree import DecisionTreeRegressor  \r\n",
        "model2 = DecisionTreeRegressor(random_state=0,)\r\n",
        "model2.fit(train_X, train_y)\r\n",
        "val_predictions = model2.predict(val_X)\r\n",
        "val_mae1 = mean_absolute_error(val_predictions, val_y)\r\n",
        "print(val_mae1)\r\n"
      ],
      "execution_count": null,
      "outputs": [
        {
          "output_type": "stream",
          "text": [
            "23865.37671232877\n"
          ],
          "name": "stdout"
        }
      ]
    },
    {
      "cell_type": "code",
      "metadata": {
        "id": "c-tymyNH3AoY",
        "colab": {
          "base_uri": "https://localhost:8080/"
        },
        "outputId": "de230493-8d42-4deb-ee52-e8fa2773d8ef"
      },
      "source": [
        "from sklearn.ensemble import RandomForestRegressor \r\n",
        "rf_model = RandomForestRegressor(random_state=1)\r\n",
        "rf_model.fit(train_X, train_y)\r\n",
        "rf_val_predictions = rf_model.predict(val_X)\r\n",
        "rf_val_mae = mean_absolute_error(rf_val_predictions, val_y)\r\n",
        "print(rf_val_mae)\r\n"
      ],
      "execution_count": null,
      "outputs": [
        {
          "output_type": "stream",
          "text": [
            "16055.244417808219\n"
          ],
          "name": "stdout"
        }
      ]
    },
    {
      "cell_type": "code",
      "metadata": {
        "id": "i9ZyDC1Yxb_9",
        "colab": {
          "base_uri": "https://localhost:8080/"
        },
        "outputId": "80ea9670-ab94-4e22-89fa-9262dad0a3d3"
      },
      "source": [
        "from sklearn.linear_model import LogisticRegression\r\n",
        "log_reg=LogisticRegression(max_iter=2000,tol=5000)\r\n",
        "log_reg.fit(train_X,train_y)\r\n",
        "log_pred=log_reg.predict(val_X)\r\n",
        "reg_mae=mean_absolute_error(log_pred,val_y)\r\n",
        "reg_mae"
      ],
      "execution_count": null,
      "outputs": [
        {
          "output_type": "execute_result",
          "data": {
            "text/plain": [
              "140872.61301369863"
            ]
          },
          "metadata": {
            "tags": []
          },
          "execution_count": 17
        }
      ]
    },
    {
      "cell_type": "code",
      "metadata": {
        "id": "lftJ3Mjjx6qF",
        "colab": {
          "base_uri": "https://localhost:8080/"
        },
        "outputId": "c30b0ccb-d709-4a6b-8603-cc99f6b58bbc"
      },
      "source": [
        "from sklearn.linear_model import LinearRegression\r\n",
        "reg=LogisticRegression(max_iter=500)\r\n",
        "reg.fit(train_X,train_y)\r\n",
        "pred=reg.predict(val_X)\r\n",
        "reg_mae=mean_absolute_error(pred,val_y)\r\n",
        "reg_mae"
      ],
      "execution_count": null,
      "outputs": [
        {
          "output_type": "execute_result",
          "data": {
            "text/plain": [
              "28346.83904109589"
            ]
          },
          "metadata": {
            "tags": []
          },
          "execution_count": 18
        }
      ]
    },
    {
      "cell_type": "markdown",
      "metadata": {
        "id": "t_td1U41lIOp"
      },
      "source": [
        "#Predicting on test data\r\n"
      ]
    },
    {
      "cell_type": "code",
      "metadata": {
        "id": "Wt599o9hqfUN"
      },
      "source": [
        "test=pd.read_csv(\"test.csv\")"
      ],
      "execution_count": null,
      "outputs": []
    },
    {
      "cell_type": "code",
      "metadata": {
        "id": "1ghLNLJkrmDs"
      },
      "source": [
        "from sklearn.preprocessing import OrdinalEncoder\r\n",
        "enc = OrdinalEncoder()\r\n",
        "test[ord_col]=enc.fit_transform(test[ord_col].astype(str))\r\n",
        "testdf = test.select_dtypes(include=np.number)\r\n",
        "del testdf['Id']\r\n",
        "names = testdf.columns\r\n",
        "scaled_df = scaler.fit_transform(testdf)\r\n",
        "testdf = pd.DataFrame(scaled_df, columns=names)\r\n",
        "test[testdf.columns] = testdf\r\n",
        "testdf2=pd.get_dummies(test,dummy_na=True)#categorical encoding\r\n",
        "testdf3=testdf2.select_dtypes(include=np.number)#using only numeric columns\r\n",
        "testdf3=testdf3.fillna(testdf3.mean())#filling na with mean\r\n",
        "col1=[]\r\n",
        "for x in finalcol:\r\n",
        "  if x in testdf3.columns:\r\n",
        "    col1.append(x)\r\n",
        "test_X = testdf3[col1]\r\n",
        "test_preds =my_model_1.predict(test_X)\r\n",
        "output = pd.DataFrame({'Id': test.Id,'SalePrice': test_preds})\r\n",
        "output.to_csv('submission.csv', index=False)"
      ],
      "execution_count": null,
      "outputs": []
    }
  ]
}